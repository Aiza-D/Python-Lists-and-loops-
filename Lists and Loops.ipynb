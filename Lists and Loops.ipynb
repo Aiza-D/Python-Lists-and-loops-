{
 "cells": [
  {
   "cell_type": "markdown",
   "id": "db2da154",
   "metadata": {},
   "source": [
    "\n",
    "### Question 1\n",
    "Perform the following tasks:\n",
    "- Create a list called **friends_list** with the string names 'Alice','Steve','John','Sally' and 'Charlie' as elements.\n",
    "- Determine the length of the list, and assign the length to the variable **ans1a**.\n",
    "\n"
   ]
  },
  {
   "cell_type": "code",
   "execution_count": 2,
   "id": "8b23a492",
   "metadata": {},
   "outputs": [
    {
     "name": "stdout",
     "output_type": "stream",
     "text": [
      "['Alice', 'Steve', 'John', 'Sally', 'Charlie']\n",
      "5\n"
     ]
    }
   ],
   "source": [
    "friends_list = []\n",
    "ans1a = None\n",
    "\n",
    "### BEGIN SOLUTION\n",
    "friends_list = ['Alice','Steve','John','Sally','Charlie']\n",
    "\n",
    "ans1a = len(friends_list)\n",
    "\n",
    "### END SOLUTION\n",
    "\n",
    "# Answer check\n",
    "print(friends_list)\n",
    "print(ans1a)\n"
   ]
  },
  {
   "cell_type": "markdown",
   "id": "3e45650f",
   "metadata": {},
   "source": [
    "\n",
    "### Question 2\n",
    "Perform the following tasks:\n",
    "- Create a list called **friends_list** with the string names 'Alice','Steve','John','Sally' and 'Charlie' as elements.\n",
    "- Iterate with a **for** loop through the list, and assign the last element of the list to the variable **ans2a**.\n",
    "\n"
   ]
  },
  {
   "cell_type": "code",
   "execution_count": 3,
   "id": "cc145506",
   "metadata": {},
   "outputs": [
    {
     "name": "stdout",
     "output_type": "stream",
     "text": [
      "Charlie\n"
     ]
    }
   ],
   "source": [
    "names_list = []\n",
    "\n",
    "### BEGIN SOLUTION\n",
    "\n",
    "friends_list = ['Alice','Steve','John','Sally','Charlie']\n",
    "for name in friends_list:\n",
    "   ans2a = name\n",
    "\n",
    "\n",
    "### END SOLUTION\n",
    "\n",
    "# Answer check\n",
    "print(ans2a)\n",
    "\n"
   ]
  },
  {
   "cell_type": "markdown",
   "id": "0e0894ce",
   "metadata": {},
   "source": [
    "\n",
    "### Question 3\n",
    "Perform the following tasks:\n",
    "- Create a list called **friends_list** with the string names 'Alice','Steve','John','Sally' and  'Charlie' as elements.\n",
    "- Iterate with a **for** loop through the list, and assign the third element of the list to the variable **ans3a**.\n",
    "\n"
   ]
  },
  {
   "cell_type": "code",
   "execution_count": 4,
   "id": "501d2ff2",
   "metadata": {},
   "outputs": [
    {
     "name": "stdout",
     "output_type": "stream",
     "text": [
      "John\n"
     ]
    }
   ],
   "source": [
    "friends_list = []\n",
    "\n",
    "### BEGIN SOLUTION\n",
    "index = 0\n",
    "friends_list = ['Alice','Steve','John','Sally', 'Charlie']\n",
    "for name in friends_list:\n",
    "   if(index == 2):\n",
    "      ans3a = name\n",
    "   index+=1\n",
    "\n",
    "\n",
    "### END SOLUTION\n",
    "\n",
    "# Answer check\n",
    "print(ans3a)\n"
   ]
  },
  {
   "cell_type": "markdown",
   "id": "43020219",
   "metadata": {},
   "source": [
    "\n",
    "### Question 4\n",
    "Perform the following tasks:\n",
    "- Create a list of integers called **int_nums** composed of the numbers 1, 2, 3, 4 and 5 in that order.\n",
    "- Determine the length of the list, and assign the value to the variable **ans4a**.\n",
    "- Iterate using a **for** loop through the list, and assign the second item to the variable **ans4b** and the fourth item to **ans4c**.\n",
    "\n"
   ]
  },
  {
   "cell_type": "code",
   "execution_count": 8,
   "id": "bbe7e17a",
   "metadata": {},
   "outputs": [
    {
     "name": "stdout",
     "output_type": "stream",
     "text": [
      "Length of the list is:  5\n",
      "Second item of the list is:  2\n",
      "fourth item of the list is:  4\n"
     ]
    }
   ],
   "source": [
    "int_num = []\n",
    "ans4a = None\n",
    "ans4b = None\n",
    "ans4c = None\n",
    "\n",
    "### BEGIN SOLUTION\n",
    "int_num = [1,2,3,4,5]\n",
    "ans4a = len(int_num)\n",
    "\n",
    "index = 0\n",
    "\n",
    "for num in int_num:\n",
    "   if(index == 1):\n",
    "      ans4b = num\n",
    "   if(index == 3):\n",
    "      ans4c = num\n",
    "   index+=1\n",
    "\n",
    "\n",
    "### END SOLUTION\n",
    "\n",
    "# Answer check\n",
    "print(\"Length of the list is: \", ans4a)\n",
    "print(\"Second item of the list is: \", ans4b)\n",
    "print(\"fourth item of the list is: \", ans4c)"
   ]
  },
  {
   "cell_type": "markdown",
   "id": "26edfca7",
   "metadata": {},
   "source": [
    "\n",
    "### Question 5\n",
    "Perform the following tasks:\n",
    "- Create a list called **friends_list** with the string elements 'Alice','Steve','John','Sally' and 'Charlie'.\n",
    "- Using indexing, assign the second element to the variable **second_element**.\n",
    "- Using indexing, assign the fourth element to the variable **fourth_element**.\n",
    "\n"
   ]
  },
  {
   "cell_type": "code",
   "execution_count": 11,
   "id": "ed3fc84d",
   "metadata": {},
   "outputs": [
    {
     "name": "stdout",
     "output_type": "stream",
     "text": [
      "Lis is:  ['Alice', 'Steve', 'John', 'Sally', 'Charlie']\n",
      "Second item of the list is:  Steve\n",
      "fourth item of the list is:  Sally\n"
     ]
    }
   ],
   "source": [
    "friends_list = []\n",
    "second_element = None\n",
    "fourth_element = None\n",
    "\n",
    "\n",
    "### BEGIN SOLUTION\n",
    "friends_list = ['Alice','Steve','John','Sally','Charlie']\n",
    "\n",
    "second_element = friends_list[1]\n",
    "\n",
    "fourth_element = friends_list[3]\n",
    "\n",
    "\n",
    "### END SOLUTION\n",
    "\n",
    "# Answer check\n",
    "\n",
    "print(\"List is: \", friends_list)\n",
    "print(\"Second item of the list is: \", second_element)\n",
    "print(\"fourth item of the list is: \", fourth_element)"
   ]
  },
  {
   "cell_type": "markdown",
   "id": "ff084845",
   "metadata": {},
   "source": [
    "\n",
    "### Question 6 (List Slicing)\n",
    "Perform the following tasks:\n",
    "- Create a string list called **friends_list**, and add the names 'Alice','Steve','John','Sally' and 'Charlie'.\n",
    "- Slice the List to retain only the third to the fourth elements.\n",
    "- Copy this resulting list, and assign it to the list called **ans6a**. Use the copy() on the list to copy.\n"
   ]
  },
  {
   "cell_type": "code",
   "execution_count": 13,
   "id": "45d2dabf",
   "metadata": {},
   "outputs": [
    {
     "name": "stdout",
     "output_type": "stream",
     "text": [
      "List is:  ['Alice', 'Steve', 'John', 'Sally', 'Charlie']\n",
      "Third to fourth element of the list are:  ['John', 'Sally']\n"
     ]
    }
   ],
   "source": [
    "friends_list = []\n",
    "ans6a = []\n",
    "\n",
    "### BEGIN SOLUTION\n",
    "friends_list= ['Alice','Steve','John','Sally', 'Charlie']\n",
    "\n",
    "ans6a = friends_list[2:4].copy()\n",
    "\n",
    "\n",
    "### END SOLUTION\n",
    "\n",
    "# Answer check\n",
    "print(\"List is: \", friends_list)\n",
    "print(\"Third to fourth elements of the list are: \", ans6a)"
   ]
  },
  {
   "cell_type": "markdown",
   "id": "4804cc48",
   "metadata": {},
   "source": [
    "\n",
    "### Question 7 (List Insertion)\n",
    "Perform the following tasks:\n",
    "- Create a string list called **characters**, and add the string letters a, b, c, d, f, and g.\n",
    "- Insert the letter e into the list in the correct place alphabetically.\n",
    "- Copy the list, and assign it to the list called ‘ans7a’. Use the copy() function to copy the list.\n",
    "\n"
   ]
  },
  {
   "cell_type": "code",
   "execution_count": 14,
   "id": "9a34c0e7",
   "metadata": {},
   "outputs": [
    {
     "name": "stdout",
     "output_type": "stream",
     "text": [
      "['a', 'b', 'c', 'd', 'e', 'f', 'g']\n"
     ]
    }
   ],
   "source": [
    "characters = []\n",
    "ans7a = []\n",
    "\n",
    "### BEGIN SOLUTION\n",
    "\n",
    "# Insert an element into a list of letters\n",
    "characters = ['a', 'b','c', 'd', 'f','g']\n",
    "\n",
    "\n",
    "characters.insert(4, 'e')\n",
    "ans7a = characters.copy()\n",
    "\n",
    "\n",
    "### END SOLUTION\n",
    "\n",
    "# Answer check\n",
    "print(ans7a)\n"
   ]
  },
  {
   "cell_type": "markdown",
   "id": "e600f616",
   "metadata": {},
   "source": [
    "\n",
    "### Question 8 (Copying a list using Append Method)\n",
    "Perform the following tasks:\n",
    "- Create a string list called **friends_list**, and add the names 'Alice','Steve','John' and 'Sally'.\n",
    "- Iterate through the list using a **for** loop, and create a copy of the list called **friends_new_list**. Use the append() function on a list to achieve this in the loop.\n"
   ]
  },
  {
   "cell_type": "code",
   "execution_count": 15,
   "id": "bc24004d",
   "metadata": {},
   "outputs": [
    {
     "name": "stdout",
     "output_type": "stream",
     "text": [
      "['Alice', 'Steve', 'John', 'Sally']\n",
      "['Alice', 'Steve', 'John', 'Sally']\n"
     ]
    }
   ],
   "source": [
    "friends_list = []\n",
    "friends_new_list = []\n",
    "ans8a = []\n",
    "\n",
    "### BEGIN SOLUTION\n",
    "\n",
    "friends_list = ['Alice','Steve','John','Sally']\n",
    "\n",
    "for name in friends_list:\n",
    "   friends_new_list.append(name)\n",
    "  \n",
    "### END SOLUTION\n",
    "\n",
    "# Answer check\n",
    "print(friends_list)\n",
    "print(friends_new_list)"
   ]
  },
  {
   "cell_type": "markdown",
   "id": "861c535c",
   "metadata": {},
   "source": [
    "\n",
    "### Question 9\n",
    "Perform the following tasks:\n",
    "- Using the range(5) function and a **for** loop,  assign the variable **numbers** to the range(5) function.  \n",
    "- Iterate through the loop and find the total value of all of the numbers produced by the range(5) function, and assign the value to **ans9a**.\n"
   ]
  },
  {
   "cell_type": "code",
   "execution_count": 17,
   "id": "02c62de8",
   "metadata": {},
   "outputs": [
    {
     "name": "stdout",
     "output_type": "stream",
     "text": [
      "Total value of all of the numbers produced by the range(5) function is:  10\n"
     ]
    }
   ],
   "source": [
    "numbers = None\n",
    "ans9a = None\n",
    "\n",
    "### BEGIN SOLUTION\n",
    "ans9a = 0\n",
    "numbers = range(5) \n",
    "for n in numbers: \n",
    "   #print(n) \n",
    "   ans9a = ans9a + n\n",
    "   #print(total)\n",
    "      \n",
    "### END SOLUTION\n",
    "\n",
    "# Answer check\n",
    "\n",
    "print(\"Total value of all of the numbers produced by the range(5) function is: \", ans9a)"
   ]
  },
  {
   "cell_type": "markdown",
   "id": "f7160dcd",
   "metadata": {},
   "source": [
    "\n",
    "### Question 10\n",
    "Perform the following tasks:\n",
    "- Starting from the number 1, create a **while** loop that iterates through the loop 7 times.\n",
    "- In the loop, increment **number** and add the value of **number** to **ans10a**."
   ]
  },
  {
   "cell_type": "code",
   "execution_count": 18,
   "id": "eb34b5a2",
   "metadata": {},
   "outputs": [
    {
     "name": "stdout",
     "output_type": "stream",
     "text": [
      "28\n"
     ]
    }
   ],
   "source": [
    "number = None\n",
    "ans10a = None\n",
    "\n",
    "### BEGIN SOLUTION\n",
    "number = 1\n",
    "total = 0\n",
    "while number < 8:\n",
    "   total = total + number\n",
    "   number += 1\n",
    "    \n",
    "ans10a = total\n",
    "\n",
    "  \n",
    "### END SOLUTION\n",
    "\n",
    "# Answer check\n",
    "print(ans10a)"
   ]
  },
  {
   "cell_type": "markdown",
   "id": "aca3dabb",
   "metadata": {},
   "source": [
    "\n",
    "### Question 11\n",
    "Perform the following tasks:\n",
    "- Using a while loop and starting with number = 0, iterate through the consecutive numbers, double the number and sum up the doubled numbers.\n",
    "- Assign the total accumulated value to ans11:\n",
    "- Loop until the number is less than 5.\n",
    "\n"
   ]
  },
  {
   "cell_type": "code",
   "execution_count": 19,
   "id": "c92e8497",
   "metadata": {},
   "outputs": [
    {
     "name": "stdout",
     "output_type": "stream",
     "text": [
      "20\n"
     ]
    }
   ],
   "source": [
    "ans11 = 0\n",
    "\n",
    "number = 0\n",
    "while number < 5:\n",
    "### BEGIN SOLUTION\n",
    "    ans11 = ans11 + 2* number\n",
    "    number = number + 1\n",
    "\n",
    "\n",
    "### END SOLUTION\n",
    "\n",
    "# Answer check\n",
    "print(ans11) "
   ]
  },
  {
   "cell_type": "markdown",
   "id": "6f651534",
   "metadata": {},
   "source": [
    "\n",
    "### Question 12\n",
    "Perform the following tasks:\n",
    "- Starting with the index number = 0, iterate through a **while** loop until the number equals 6.\n",
    "- However, if the index number is equal to 4, assign the string 'continuing' to **ans12b**.\n",
    "- After the loop ends, assign the index number to **ans12a**.\n"
   ]
  },
  {
   "cell_type": "code",
   "execution_count": 20,
   "id": "4e8a8020",
   "metadata": {},
   "outputs": [
    {
     "name": "stdout",
     "output_type": "stream",
     "text": [
      "6\n",
      "continuing\n"
     ]
    }
   ],
   "source": [
    "number = None\n",
    "ans12a = None\n",
    "\n",
    "### BEGIN SOLUTION\n",
    "number = 0\n",
    "while number < 6:\n",
    "   #print(number)\n",
    "   number += 1\n",
    "   if number == 4:\n",
    "      ans12b = 'continuing'\n",
    "      continue\n",
    "    \n",
    "ans12a = number\n",
    "\n",
    "### END SOLUTION\n",
    "\n",
    "# Answer check\n",
    "print(ans12a) \n",
    "print(ans12b)"
   ]
  }
 ],
 "metadata": {
  "kernelspec": {
   "display_name": "Python 3 (ipykernel)",
   "language": "python",
   "name": "python3"
  },
  "language_info": {
   "codemirror_mode": {
    "name": "ipython",
    "version": 3
   },
   "file_extension": ".py",
   "mimetype": "text/x-python",
   "name": "python",
   "nbconvert_exporter": "python",
   "pygments_lexer": "ipython3",
   "version": "3.11.5"
  }
 },
 "nbformat": 4,
 "nbformat_minor": 5
}
